{
  "nbformat": 4,
  "nbformat_minor": 0,
  "metadata": {
    "colab": {
      "name": "Fproj_model.ipynb",
      "provenance": [],
      "collapsed_sections": []
    },
    "kernelspec": {
      "name": "python3",
      "display_name": "Python 3"
    }
  },
  "cells": [
    {
      "cell_type": "code",
      "metadata": {
        "id": "9sQIcpGjtOPw",
        "colab_type": "code",
        "colab": {
          "base_uri": "https://localhost:8080/",
          "height": 73
        },
        "outputId": "28d09abf-5d40-4cc4-cadf-9e098b36d832"
      },
      "source": [
        "import matplotlib.pyplot as plt\n",
        "from sklearn.metrics import classification_report\n",
        "from sklearn.linear_model import LogisticRegression\n",
        "from sklearn.model_selection import train_test_split\n",
        "import numpy as np\n",
        "import pandas as pd\n",
        "from sklearn.model_selection import GridSearchCV\n",
        "from sklearn.linear_model import LinearRegression\n",
        "import statsmodels.api as sm"
      ],
      "execution_count": null,
      "outputs": [
        {
          "output_type": "stream",
          "text": [
            "/usr/local/lib/python3.6/dist-packages/statsmodels/tools/_testing.py:19: FutureWarning: pandas.util.testing is deprecated. Use the functions in the public API at pandas.testing instead.\n",
            "  import pandas.util.testing as tm\n"
          ],
          "name": "stderr"
        }
      ]
    },
    {
      "cell_type": "code",
      "metadata": {
        "id": "l9eJtsVRto0U",
        "colab_type": "code",
        "colab": {
          "base_uri": "https://localhost:8080/",
          "height": 419
        },
        "outputId": "bc366833-38a2-47b0-d125-acefdf01124e"
      },
      "source": [
        "df = pd.read_excel('./1_gaguA.xlsx')   #구,동  1인가구수 2인가구수데이터.(공공데이터에서 받고 직접 전처리 해놓은 데이터)\n",
        "df"
      ],
      "execution_count": null,
      "outputs": [
        {
          "output_type": "execute_result",
          "data": {
            "text/html": [
              "<div>\n",
              "<style scoped>\n",
              "    .dataframe tbody tr th:only-of-type {\n",
              "        vertical-align: middle;\n",
              "    }\n",
              "\n",
              "    .dataframe tbody tr th {\n",
              "        vertical-align: top;\n",
              "    }\n",
              "\n",
              "    .dataframe thead th {\n",
              "        text-align: right;\n",
              "    }\n",
              "</style>\n",
              "<table border=\"1\" class=\"dataframe\">\n",
              "  <thead>\n",
              "    <tr style=\"text-align: right;\">\n",
              "      <th></th>\n",
              "      <th>gu</th>\n",
              "      <th>dong</th>\n",
              "      <th>gagu_1</th>\n",
              "      <th>gagu_2</th>\n",
              "    </tr>\n",
              "  </thead>\n",
              "  <tbody>\n",
              "    <tr>\n",
              "      <th>0</th>\n",
              "      <td>종로구</td>\n",
              "      <td>사직동</td>\n",
              "      <td>1125</td>\n",
              "      <td>1006</td>\n",
              "    </tr>\n",
              "    <tr>\n",
              "      <th>1</th>\n",
              "      <td>종로구</td>\n",
              "      <td>삼청동</td>\n",
              "      <td>363</td>\n",
              "      <td>296</td>\n",
              "    </tr>\n",
              "    <tr>\n",
              "      <th>2</th>\n",
              "      <td>종로구</td>\n",
              "      <td>부암동</td>\n",
              "      <td>995</td>\n",
              "      <td>1082</td>\n",
              "    </tr>\n",
              "    <tr>\n",
              "      <th>3</th>\n",
              "      <td>종로구</td>\n",
              "      <td>평창동</td>\n",
              "      <td>1252</td>\n",
              "      <td>1709</td>\n",
              "    </tr>\n",
              "    <tr>\n",
              "      <th>4</th>\n",
              "      <td>종로구</td>\n",
              "      <td>무악동</td>\n",
              "      <td>508</td>\n",
              "      <td>698</td>\n",
              "    </tr>\n",
              "    <tr>\n",
              "      <th>...</th>\n",
              "      <td>...</td>\n",
              "      <td>...</td>\n",
              "      <td>...</td>\n",
              "      <td>...</td>\n",
              "    </tr>\n",
              "    <tr>\n",
              "      <th>228</th>\n",
              "      <td>강동구</td>\n",
              "      <td>암사동</td>\n",
              "      <td>5809</td>\n",
              "      <td>6133</td>\n",
              "    </tr>\n",
              "    <tr>\n",
              "      <th>229</th>\n",
              "      <td>강동구</td>\n",
              "      <td>천호동</td>\n",
              "      <td>12255</td>\n",
              "      <td>9699</td>\n",
              "    </tr>\n",
              "    <tr>\n",
              "      <th>230</th>\n",
              "      <td>강동구</td>\n",
              "      <td>성내동</td>\n",
              "      <td>7863</td>\n",
              "      <td>6725</td>\n",
              "    </tr>\n",
              "    <tr>\n",
              "      <th>231</th>\n",
              "      <td>강동구</td>\n",
              "      <td>둔촌동</td>\n",
              "      <td>2509</td>\n",
              "      <td>3655</td>\n",
              "    </tr>\n",
              "    <tr>\n",
              "      <th>232</th>\n",
              "      <td>강동구</td>\n",
              "      <td>길동</td>\n",
              "      <td>5141</td>\n",
              "      <td>4738</td>\n",
              "    </tr>\n",
              "  </tbody>\n",
              "</table>\n",
              "<p>233 rows × 4 columns</p>\n",
              "</div>"
            ],
            "text/plain": [
              "      gu dong  gagu_1  gagu_2\n",
              "0    종로구  사직동    1125    1006\n",
              "1    종로구  삼청동     363     296\n",
              "2    종로구  부암동     995    1082\n",
              "3    종로구  평창동    1252    1709\n",
              "4    종로구  무악동     508     698\n",
              "..   ...  ...     ...     ...\n",
              "228  강동구  암사동    5809    6133\n",
              "229  강동구  천호동   12255    9699\n",
              "230  강동구  성내동    7863    6725\n",
              "231  강동구  둔촌동    2509    3655\n",
              "232  강동구   길동    5141    4738\n",
              "\n",
              "[233 rows x 4 columns]"
            ]
          },
          "metadata": {
            "tags": []
          },
          "execution_count": 3
        }
      ]
    },
    {
      "cell_type": "code",
      "metadata": {
        "id": "2JtZQSmPvak1",
        "colab_type": "code",
        "colab": {
          "base_uri": "https://localhost:8080/",
          "height": 419
        },
        "outputId": "bb50f351-aa8f-4829-ab2b-53d520095423"
      },
      "source": [
        "del df['gu']  #gu 컬럼 삭제.\n",
        "df"
      ],
      "execution_count": null,
      "outputs": [
        {
          "output_type": "execute_result",
          "data": {
            "text/html": [
              "<div>\n",
              "<style scoped>\n",
              "    .dataframe tbody tr th:only-of-type {\n",
              "        vertical-align: middle;\n",
              "    }\n",
              "\n",
              "    .dataframe tbody tr th {\n",
              "        vertical-align: top;\n",
              "    }\n",
              "\n",
              "    .dataframe thead th {\n",
              "        text-align: right;\n",
              "    }\n",
              "</style>\n",
              "<table border=\"1\" class=\"dataframe\">\n",
              "  <thead>\n",
              "    <tr style=\"text-align: right;\">\n",
              "      <th></th>\n",
              "      <th>dong</th>\n",
              "      <th>gagu_1</th>\n",
              "      <th>gagu_2</th>\n",
              "    </tr>\n",
              "  </thead>\n",
              "  <tbody>\n",
              "    <tr>\n",
              "      <th>0</th>\n",
              "      <td>사직동</td>\n",
              "      <td>1125</td>\n",
              "      <td>1006</td>\n",
              "    </tr>\n",
              "    <tr>\n",
              "      <th>1</th>\n",
              "      <td>삼청동</td>\n",
              "      <td>363</td>\n",
              "      <td>296</td>\n",
              "    </tr>\n",
              "    <tr>\n",
              "      <th>2</th>\n",
              "      <td>부암동</td>\n",
              "      <td>995</td>\n",
              "      <td>1082</td>\n",
              "    </tr>\n",
              "    <tr>\n",
              "      <th>3</th>\n",
              "      <td>평창동</td>\n",
              "      <td>1252</td>\n",
              "      <td>1709</td>\n",
              "    </tr>\n",
              "    <tr>\n",
              "      <th>4</th>\n",
              "      <td>무악동</td>\n",
              "      <td>508</td>\n",
              "      <td>698</td>\n",
              "    </tr>\n",
              "    <tr>\n",
              "      <th>...</th>\n",
              "      <td>...</td>\n",
              "      <td>...</td>\n",
              "      <td>...</td>\n",
              "    </tr>\n",
              "    <tr>\n",
              "      <th>228</th>\n",
              "      <td>암사동</td>\n",
              "      <td>5809</td>\n",
              "      <td>6133</td>\n",
              "    </tr>\n",
              "    <tr>\n",
              "      <th>229</th>\n",
              "      <td>천호동</td>\n",
              "      <td>12255</td>\n",
              "      <td>9699</td>\n",
              "    </tr>\n",
              "    <tr>\n",
              "      <th>230</th>\n",
              "      <td>성내동</td>\n",
              "      <td>7863</td>\n",
              "      <td>6725</td>\n",
              "    </tr>\n",
              "    <tr>\n",
              "      <th>231</th>\n",
              "      <td>둔촌동</td>\n",
              "      <td>2509</td>\n",
              "      <td>3655</td>\n",
              "    </tr>\n",
              "    <tr>\n",
              "      <th>232</th>\n",
              "      <td>길동</td>\n",
              "      <td>5141</td>\n",
              "      <td>4738</td>\n",
              "    </tr>\n",
              "  </tbody>\n",
              "</table>\n",
              "<p>233 rows × 3 columns</p>\n",
              "</div>"
            ],
            "text/plain": [
              "    dong  gagu_1  gagu_2\n",
              "0    사직동    1125    1006\n",
              "1    삼청동     363     296\n",
              "2    부암동     995    1082\n",
              "3    평창동    1252    1709\n",
              "4    무악동     508     698\n",
              "..   ...     ...     ...\n",
              "228  암사동    5809    6133\n",
              "229  천호동   12255    9699\n",
              "230  성내동    7863    6725\n",
              "231  둔촌동    2509    3655\n",
              "232   길동    5141    4738\n",
              "\n",
              "[233 rows x 3 columns]"
            ]
          },
          "metadata": {
            "tags": []
          },
          "execution_count": 4
        }
      ]
    },
    {
      "cell_type": "code",
      "metadata": {
        "id": "a976eagHvgjO",
        "colab_type": "code",
        "colab": {
          "base_uri": "https://localhost:8080/",
          "height": 419
        },
        "outputId": "a44efd3e-3bcd-43c4-bacd-2f1be72f0c61"
      },
      "source": [
        "cleaner = pd.read_csv('./동에따른매장수.csv')  #동에 따른 코인세탁소 매장수 데이터\n",
        "cleaner"
      ],
      "execution_count": null,
      "outputs": [
        {
          "output_type": "execute_result",
          "data": {
            "text/html": [
              "<div>\n",
              "<style scoped>\n",
              "    .dataframe tbody tr th:only-of-type {\n",
              "        vertical-align: middle;\n",
              "    }\n",
              "\n",
              "    .dataframe tbody tr th {\n",
              "        vertical-align: top;\n",
              "    }\n",
              "\n",
              "    .dataframe thead th {\n",
              "        text-align: right;\n",
              "    }\n",
              "</style>\n",
              "<table border=\"1\" class=\"dataframe\">\n",
              "  <thead>\n",
              "    <tr style=\"text-align: right;\">\n",
              "      <th></th>\n",
              "      <th>dong</th>\n",
              "      <th>other_address</th>\n",
              "    </tr>\n",
              "  </thead>\n",
              "  <tbody>\n",
              "    <tr>\n",
              "      <th>0</th>\n",
              "      <td>신림동</td>\n",
              "      <td>38</td>\n",
              "    </tr>\n",
              "    <tr>\n",
              "      <th>1</th>\n",
              "      <td>화곡동</td>\n",
              "      <td>26</td>\n",
              "    </tr>\n",
              "    <tr>\n",
              "      <th>2</th>\n",
              "      <td>상계동</td>\n",
              "      <td>19</td>\n",
              "    </tr>\n",
              "    <tr>\n",
              "      <th>3</th>\n",
              "      <td>봉천동</td>\n",
              "      <td>18</td>\n",
              "    </tr>\n",
              "    <tr>\n",
              "      <th>4</th>\n",
              "      <td>상도동</td>\n",
              "      <td>18</td>\n",
              "    </tr>\n",
              "    <tr>\n",
              "      <th>...</th>\n",
              "      <td>...</td>\n",
              "      <td>...</td>\n",
              "    </tr>\n",
              "    <tr>\n",
              "      <th>165</th>\n",
              "      <td>교북동</td>\n",
              "      <td>1</td>\n",
              "    </tr>\n",
              "    <tr>\n",
              "      <th>166</th>\n",
              "      <td>후암동</td>\n",
              "      <td>1</td>\n",
              "    </tr>\n",
              "    <tr>\n",
              "      <th>167</th>\n",
              "      <td>용문동</td>\n",
              "      <td>1</td>\n",
              "    </tr>\n",
              "    <tr>\n",
              "      <th>168</th>\n",
              "      <td>우면동</td>\n",
              "      <td>1</td>\n",
              "    </tr>\n",
              "    <tr>\n",
              "      <th>169</th>\n",
              "      <td>문배동</td>\n",
              "      <td>1</td>\n",
              "    </tr>\n",
              "  </tbody>\n",
              "</table>\n",
              "<p>170 rows × 2 columns</p>\n",
              "</div>"
            ],
            "text/plain": [
              "    dong  other_address\n",
              "0    신림동             38\n",
              "1    화곡동             26\n",
              "2    상계동             19\n",
              "3    봉천동             18\n",
              "4    상도동             18\n",
              "..   ...            ...\n",
              "165  교북동              1\n",
              "166  후암동              1\n",
              "167  용문동              1\n",
              "168  우면동              1\n",
              "169  문배동              1\n",
              "\n",
              "[170 rows x 2 columns]"
            ]
          },
          "metadata": {
            "tags": []
          },
          "execution_count": 5
        }
      ]
    },
    {
      "cell_type": "code",
      "metadata": {
        "id": "6fOJHF4hwmqK",
        "colab_type": "code",
        "colab": {
          "base_uri": "https://localhost:8080/",
          "height": 419
        },
        "outputId": "a9ddaca2-4302-4e5e-d7c0-d853c88dc66e"
      },
      "source": [
        "result = pd.merge(df,cleaner,how='outer',on='dong')  # 두 데이터프레임 동기준으로 아우터조인으로 합치기.\n",
        "result"
      ],
      "execution_count": null,
      "outputs": [
        {
          "output_type": "execute_result",
          "data": {
            "text/html": [
              "<div>\n",
              "<style scoped>\n",
              "    .dataframe tbody tr th:only-of-type {\n",
              "        vertical-align: middle;\n",
              "    }\n",
              "\n",
              "    .dataframe tbody tr th {\n",
              "        vertical-align: top;\n",
              "    }\n",
              "\n",
              "    .dataframe thead th {\n",
              "        text-align: right;\n",
              "    }\n",
              "</style>\n",
              "<table border=\"1\" class=\"dataframe\">\n",
              "  <thead>\n",
              "    <tr style=\"text-align: right;\">\n",
              "      <th></th>\n",
              "      <th>dong</th>\n",
              "      <th>gagu_1</th>\n",
              "      <th>gagu_2</th>\n",
              "      <th>other_address</th>\n",
              "    </tr>\n",
              "  </thead>\n",
              "  <tbody>\n",
              "    <tr>\n",
              "      <th>0</th>\n",
              "      <td>사직동</td>\n",
              "      <td>1125.0</td>\n",
              "      <td>1006.0</td>\n",
              "      <td>NaN</td>\n",
              "    </tr>\n",
              "    <tr>\n",
              "      <th>1</th>\n",
              "      <td>삼청동</td>\n",
              "      <td>363.0</td>\n",
              "      <td>296.0</td>\n",
              "      <td>NaN</td>\n",
              "    </tr>\n",
              "    <tr>\n",
              "      <th>2</th>\n",
              "      <td>부암동</td>\n",
              "      <td>995.0</td>\n",
              "      <td>1082.0</td>\n",
              "      <td>NaN</td>\n",
              "    </tr>\n",
              "    <tr>\n",
              "      <th>3</th>\n",
              "      <td>평창동</td>\n",
              "      <td>1252.0</td>\n",
              "      <td>1709.0</td>\n",
              "      <td>NaN</td>\n",
              "    </tr>\n",
              "    <tr>\n",
              "      <th>4</th>\n",
              "      <td>무악동</td>\n",
              "      <td>508.0</td>\n",
              "      <td>698.0</td>\n",
              "      <td>1.0</td>\n",
              "    </tr>\n",
              "    <tr>\n",
              "      <th>...</th>\n",
              "      <td>...</td>\n",
              "      <td>...</td>\n",
              "      <td>...</td>\n",
              "      <td>...</td>\n",
              "    </tr>\n",
              "    <tr>\n",
              "      <th>259</th>\n",
              "      <td>도선동</td>\n",
              "      <td>NaN</td>\n",
              "      <td>NaN</td>\n",
              "      <td>1.0</td>\n",
              "    </tr>\n",
              "    <tr>\n",
              "      <th>260</th>\n",
              "      <td>내자동</td>\n",
              "      <td>NaN</td>\n",
              "      <td>NaN</td>\n",
              "      <td>1.0</td>\n",
              "    </tr>\n",
              "    <tr>\n",
              "      <th>261</th>\n",
              "      <td>교북동</td>\n",
              "      <td>NaN</td>\n",
              "      <td>NaN</td>\n",
              "      <td>1.0</td>\n",
              "    </tr>\n",
              "    <tr>\n",
              "      <th>262</th>\n",
              "      <td>우면동</td>\n",
              "      <td>NaN</td>\n",
              "      <td>NaN</td>\n",
              "      <td>1.0</td>\n",
              "    </tr>\n",
              "    <tr>\n",
              "      <th>263</th>\n",
              "      <td>문배동</td>\n",
              "      <td>NaN</td>\n",
              "      <td>NaN</td>\n",
              "      <td>1.0</td>\n",
              "    </tr>\n",
              "  </tbody>\n",
              "</table>\n",
              "<p>264 rows × 4 columns</p>\n",
              "</div>"
            ],
            "text/plain": [
              "    dong  gagu_1  gagu_2  other_address\n",
              "0    사직동  1125.0  1006.0            NaN\n",
              "1    삼청동   363.0   296.0            NaN\n",
              "2    부암동   995.0  1082.0            NaN\n",
              "3    평창동  1252.0  1709.0            NaN\n",
              "4    무악동   508.0   698.0            1.0\n",
              "..   ...     ...     ...            ...\n",
              "259  도선동     NaN     NaN            1.0\n",
              "260  내자동     NaN     NaN            1.0\n",
              "261  교북동     NaN     NaN            1.0\n",
              "262  우면동     NaN     NaN            1.0\n",
              "263  문배동     NaN     NaN            1.0\n",
              "\n",
              "[264 rows x 4 columns]"
            ]
          },
          "metadata": {
            "tags": []
          },
          "execution_count": 6
        }
      ]
    },
    {
      "cell_type": "code",
      "metadata": {
        "id": "5P8aIhBjxJra",
        "colab_type": "code",
        "colab": {}
      },
      "source": [
        "result.to_excel('result.xlsx')  # 엑셀 파일로 저장. -> 가구데이터가 2016년 기준이므로 새로 생긴동을 빼버림(엑셀로 처리)"
      ],
      "execution_count": null,
      "outputs": []
    },
    {
      "cell_type": "code",
      "metadata": {
        "id": "fxfoWBNWPXxt",
        "colab_type": "code",
        "colab": {
          "base_uri": "https://localhost:8080/",
          "height": 419
        },
        "outputId": "8d01fa57-2640-41d3-f7e0-c28e7a4207d1"
      },
      "source": [
        "AA = pd.read_excel('./result.xlsx')\n",
        "AA"
      ],
      "execution_count": null,
      "outputs": [
        {
          "output_type": "execute_result",
          "data": {
            "text/html": [
              "<div>\n",
              "<style scoped>\n",
              "    .dataframe tbody tr th:only-of-type {\n",
              "        vertical-align: middle;\n",
              "    }\n",
              "\n",
              "    .dataframe tbody tr th {\n",
              "        vertical-align: top;\n",
              "    }\n",
              "\n",
              "    .dataframe thead th {\n",
              "        text-align: right;\n",
              "    }\n",
              "</style>\n",
              "<table border=\"1\" class=\"dataframe\">\n",
              "  <thead>\n",
              "    <tr style=\"text-align: right;\">\n",
              "      <th></th>\n",
              "      <th>Unnamed: 0</th>\n",
              "      <th>dong</th>\n",
              "      <th>gagu_1</th>\n",
              "      <th>gagu_2</th>\n",
              "      <th>other_address</th>\n",
              "    </tr>\n",
              "  </thead>\n",
              "  <tbody>\n",
              "    <tr>\n",
              "      <th>0</th>\n",
              "      <td>0</td>\n",
              "      <td>사직동</td>\n",
              "      <td>1125</td>\n",
              "      <td>1006</td>\n",
              "      <td>0</td>\n",
              "    </tr>\n",
              "    <tr>\n",
              "      <th>1</th>\n",
              "      <td>1</td>\n",
              "      <td>삼청동</td>\n",
              "      <td>363</td>\n",
              "      <td>296</td>\n",
              "      <td>0</td>\n",
              "    </tr>\n",
              "    <tr>\n",
              "      <th>2</th>\n",
              "      <td>2</td>\n",
              "      <td>부암동</td>\n",
              "      <td>995</td>\n",
              "      <td>1082</td>\n",
              "      <td>0</td>\n",
              "    </tr>\n",
              "    <tr>\n",
              "      <th>3</th>\n",
              "      <td>3</td>\n",
              "      <td>평창동</td>\n",
              "      <td>1252</td>\n",
              "      <td>1709</td>\n",
              "      <td>0</td>\n",
              "    </tr>\n",
              "    <tr>\n",
              "      <th>4</th>\n",
              "      <td>4</td>\n",
              "      <td>무악동</td>\n",
              "      <td>508</td>\n",
              "      <td>698</td>\n",
              "      <td>1</td>\n",
              "    </tr>\n",
              "    <tr>\n",
              "      <th>...</th>\n",
              "      <td>...</td>\n",
              "      <td>...</td>\n",
              "      <td>...</td>\n",
              "      <td>...</td>\n",
              "      <td>...</td>\n",
              "    </tr>\n",
              "    <tr>\n",
              "      <th>228</th>\n",
              "      <td>228</td>\n",
              "      <td>암사동</td>\n",
              "      <td>5809</td>\n",
              "      <td>6133</td>\n",
              "      <td>0</td>\n",
              "    </tr>\n",
              "    <tr>\n",
              "      <th>229</th>\n",
              "      <td>229</td>\n",
              "      <td>천호동</td>\n",
              "      <td>12255</td>\n",
              "      <td>9699</td>\n",
              "      <td>9</td>\n",
              "    </tr>\n",
              "    <tr>\n",
              "      <th>230</th>\n",
              "      <td>230</td>\n",
              "      <td>성내동</td>\n",
              "      <td>7863</td>\n",
              "      <td>6725</td>\n",
              "      <td>9</td>\n",
              "    </tr>\n",
              "    <tr>\n",
              "      <th>231</th>\n",
              "      <td>231</td>\n",
              "      <td>둔촌동</td>\n",
              "      <td>2509</td>\n",
              "      <td>3655</td>\n",
              "      <td>2</td>\n",
              "    </tr>\n",
              "    <tr>\n",
              "      <th>232</th>\n",
              "      <td>232</td>\n",
              "      <td>길동</td>\n",
              "      <td>5141</td>\n",
              "      <td>4738</td>\n",
              "      <td>7</td>\n",
              "    </tr>\n",
              "  </tbody>\n",
              "</table>\n",
              "<p>233 rows × 5 columns</p>\n",
              "</div>"
            ],
            "text/plain": [
              "     Unnamed: 0 dong  gagu_1  gagu_2  other_address\n",
              "0             0  사직동    1125    1006              0\n",
              "1             1  삼청동     363     296              0\n",
              "2             2  부암동     995    1082              0\n",
              "3             3  평창동    1252    1709              0\n",
              "4             4  무악동     508     698              1\n",
              "..          ...  ...     ...     ...            ...\n",
              "228         228  암사동    5809    6133              0\n",
              "229         229  천호동   12255    9699              9\n",
              "230         230  성내동    7863    6725              9\n",
              "231         231  둔촌동    2509    3655              2\n",
              "232         232   길동    5141    4738              7\n",
              "\n",
              "[233 rows x 5 columns]"
            ]
          },
          "metadata": {
            "tags": []
          },
          "execution_count": 9
        }
      ]
    },
    {
      "cell_type": "code",
      "metadata": {
        "id": "_ODgXcTiRU5v",
        "colab_type": "code",
        "colab": {}
      },
      "source": [
        "BB = AA.fillna(0) #결측치 0 처리"
      ],
      "execution_count": null,
      "outputs": []
    },
    {
      "cell_type": "code",
      "metadata": {
        "id": "UJVJNdAIS2yg",
        "colab_type": "code",
        "colab": {
          "base_uri": "https://localhost:8080/",
          "height": 419
        },
        "outputId": "7f30a031-8a8e-4304-a91d-6a1bb81df26c"
      },
      "source": [
        "BB"
      ],
      "execution_count": null,
      "outputs": [
        {
          "output_type": "execute_result",
          "data": {
            "text/html": [
              "<div>\n",
              "<style scoped>\n",
              "    .dataframe tbody tr th:only-of-type {\n",
              "        vertical-align: middle;\n",
              "    }\n",
              "\n",
              "    .dataframe tbody tr th {\n",
              "        vertical-align: top;\n",
              "    }\n",
              "\n",
              "    .dataframe thead th {\n",
              "        text-align: right;\n",
              "    }\n",
              "</style>\n",
              "<table border=\"1\" class=\"dataframe\">\n",
              "  <thead>\n",
              "    <tr style=\"text-align: right;\">\n",
              "      <th></th>\n",
              "      <th>Unnamed: 0</th>\n",
              "      <th>dong</th>\n",
              "      <th>gagu_1</th>\n",
              "      <th>gagu_2</th>\n",
              "      <th>other_address</th>\n",
              "    </tr>\n",
              "  </thead>\n",
              "  <tbody>\n",
              "    <tr>\n",
              "      <th>0</th>\n",
              "      <td>0</td>\n",
              "      <td>사직동</td>\n",
              "      <td>1125</td>\n",
              "      <td>1006</td>\n",
              "      <td>0</td>\n",
              "    </tr>\n",
              "    <tr>\n",
              "      <th>1</th>\n",
              "      <td>1</td>\n",
              "      <td>삼청동</td>\n",
              "      <td>363</td>\n",
              "      <td>296</td>\n",
              "      <td>0</td>\n",
              "    </tr>\n",
              "    <tr>\n",
              "      <th>2</th>\n",
              "      <td>2</td>\n",
              "      <td>부암동</td>\n",
              "      <td>995</td>\n",
              "      <td>1082</td>\n",
              "      <td>0</td>\n",
              "    </tr>\n",
              "    <tr>\n",
              "      <th>3</th>\n",
              "      <td>3</td>\n",
              "      <td>평창동</td>\n",
              "      <td>1252</td>\n",
              "      <td>1709</td>\n",
              "      <td>0</td>\n",
              "    </tr>\n",
              "    <tr>\n",
              "      <th>4</th>\n",
              "      <td>4</td>\n",
              "      <td>무악동</td>\n",
              "      <td>508</td>\n",
              "      <td>698</td>\n",
              "      <td>1</td>\n",
              "    </tr>\n",
              "    <tr>\n",
              "      <th>...</th>\n",
              "      <td>...</td>\n",
              "      <td>...</td>\n",
              "      <td>...</td>\n",
              "      <td>...</td>\n",
              "      <td>...</td>\n",
              "    </tr>\n",
              "    <tr>\n",
              "      <th>228</th>\n",
              "      <td>228</td>\n",
              "      <td>암사동</td>\n",
              "      <td>5809</td>\n",
              "      <td>6133</td>\n",
              "      <td>0</td>\n",
              "    </tr>\n",
              "    <tr>\n",
              "      <th>229</th>\n",
              "      <td>229</td>\n",
              "      <td>천호동</td>\n",
              "      <td>12255</td>\n",
              "      <td>9699</td>\n",
              "      <td>9</td>\n",
              "    </tr>\n",
              "    <tr>\n",
              "      <th>230</th>\n",
              "      <td>230</td>\n",
              "      <td>성내동</td>\n",
              "      <td>7863</td>\n",
              "      <td>6725</td>\n",
              "      <td>9</td>\n",
              "    </tr>\n",
              "    <tr>\n",
              "      <th>231</th>\n",
              "      <td>231</td>\n",
              "      <td>둔촌동</td>\n",
              "      <td>2509</td>\n",
              "      <td>3655</td>\n",
              "      <td>2</td>\n",
              "    </tr>\n",
              "    <tr>\n",
              "      <th>232</th>\n",
              "      <td>232</td>\n",
              "      <td>길동</td>\n",
              "      <td>5141</td>\n",
              "      <td>4738</td>\n",
              "      <td>7</td>\n",
              "    </tr>\n",
              "  </tbody>\n",
              "</table>\n",
              "<p>233 rows × 5 columns</p>\n",
              "</div>"
            ],
            "text/plain": [
              "     Unnamed: 0 dong  gagu_1  gagu_2  other_address\n",
              "0             0  사직동    1125    1006              0\n",
              "1             1  삼청동     363     296              0\n",
              "2             2  부암동     995    1082              0\n",
              "3             3  평창동    1252    1709              0\n",
              "4             4  무악동     508     698              1\n",
              "..          ...  ...     ...     ...            ...\n",
              "228         228  암사동    5809    6133              0\n",
              "229         229  천호동   12255    9699              9\n",
              "230         230  성내동    7863    6725              9\n",
              "231         231  둔촌동    2509    3655              2\n",
              "232         232   길동    5141    4738              7\n",
              "\n",
              "[233 rows x 5 columns]"
            ]
          },
          "metadata": {
            "tags": []
          },
          "execution_count": 11
        }
      ]
    },
    {
      "cell_type": "code",
      "metadata": {
        "id": "QIW-PeitT97w",
        "colab_type": "code",
        "colab": {
          "base_uri": "https://localhost:8080/",
          "height": 419
        },
        "outputId": "6ee8557f-9440-45b4-b0c6-d5ce1601c5c5"
      },
      "source": [
        "dfy = pd.DataFrame(BB, columns=[\"other_address\"]) #종속변수\n",
        "dfy"
      ],
      "execution_count": null,
      "outputs": [
        {
          "output_type": "execute_result",
          "data": {
            "text/html": [
              "<div>\n",
              "<style scoped>\n",
              "    .dataframe tbody tr th:only-of-type {\n",
              "        vertical-align: middle;\n",
              "    }\n",
              "\n",
              "    .dataframe tbody tr th {\n",
              "        vertical-align: top;\n",
              "    }\n",
              "\n",
              "    .dataframe thead th {\n",
              "        text-align: right;\n",
              "    }\n",
              "</style>\n",
              "<table border=\"1\" class=\"dataframe\">\n",
              "  <thead>\n",
              "    <tr style=\"text-align: right;\">\n",
              "      <th></th>\n",
              "      <th>other_address</th>\n",
              "    </tr>\n",
              "  </thead>\n",
              "  <tbody>\n",
              "    <tr>\n",
              "      <th>0</th>\n",
              "      <td>0</td>\n",
              "    </tr>\n",
              "    <tr>\n",
              "      <th>1</th>\n",
              "      <td>0</td>\n",
              "    </tr>\n",
              "    <tr>\n",
              "      <th>2</th>\n",
              "      <td>0</td>\n",
              "    </tr>\n",
              "    <tr>\n",
              "      <th>3</th>\n",
              "      <td>0</td>\n",
              "    </tr>\n",
              "    <tr>\n",
              "      <th>4</th>\n",
              "      <td>1</td>\n",
              "    </tr>\n",
              "    <tr>\n",
              "      <th>...</th>\n",
              "      <td>...</td>\n",
              "    </tr>\n",
              "    <tr>\n",
              "      <th>228</th>\n",
              "      <td>0</td>\n",
              "    </tr>\n",
              "    <tr>\n",
              "      <th>229</th>\n",
              "      <td>9</td>\n",
              "    </tr>\n",
              "    <tr>\n",
              "      <th>230</th>\n",
              "      <td>9</td>\n",
              "    </tr>\n",
              "    <tr>\n",
              "      <th>231</th>\n",
              "      <td>2</td>\n",
              "    </tr>\n",
              "    <tr>\n",
              "      <th>232</th>\n",
              "      <td>7</td>\n",
              "    </tr>\n",
              "  </tbody>\n",
              "</table>\n",
              "<p>233 rows × 1 columns</p>\n",
              "</div>"
            ],
            "text/plain": [
              "     other_address\n",
              "0                0\n",
              "1                0\n",
              "2                0\n",
              "3                0\n",
              "4                1\n",
              "..             ...\n",
              "228              0\n",
              "229              9\n",
              "230              9\n",
              "231              2\n",
              "232              7\n",
              "\n",
              "[233 rows x 1 columns]"
            ]
          },
          "metadata": {
            "tags": []
          },
          "execution_count": 12
        }
      ]
    },
    {
      "cell_type": "code",
      "metadata": {
        "id": "dZJnEu8UUY0e",
        "colab_type": "code",
        "colab": {
          "base_uri": "https://localhost:8080/",
          "height": 419
        },
        "outputId": "ba00dcc3-55f7-4884-91de-50108d3754f8"
      },
      "source": [
        "dfx = pd.DataFrame(BB, columns=[\"gagu_1\",\"gagu_2\"]) #독립변수\n",
        "dfx"
      ],
      "execution_count": null,
      "outputs": [
        {
          "output_type": "execute_result",
          "data": {
            "text/html": [
              "<div>\n",
              "<style scoped>\n",
              "    .dataframe tbody tr th:only-of-type {\n",
              "        vertical-align: middle;\n",
              "    }\n",
              "\n",
              "    .dataframe tbody tr th {\n",
              "        vertical-align: top;\n",
              "    }\n",
              "\n",
              "    .dataframe thead th {\n",
              "        text-align: right;\n",
              "    }\n",
              "</style>\n",
              "<table border=\"1\" class=\"dataframe\">\n",
              "  <thead>\n",
              "    <tr style=\"text-align: right;\">\n",
              "      <th></th>\n",
              "      <th>gagu_1</th>\n",
              "      <th>gagu_2</th>\n",
              "    </tr>\n",
              "  </thead>\n",
              "  <tbody>\n",
              "    <tr>\n",
              "      <th>0</th>\n",
              "      <td>1125</td>\n",
              "      <td>1006</td>\n",
              "    </tr>\n",
              "    <tr>\n",
              "      <th>1</th>\n",
              "      <td>363</td>\n",
              "      <td>296</td>\n",
              "    </tr>\n",
              "    <tr>\n",
              "      <th>2</th>\n",
              "      <td>995</td>\n",
              "      <td>1082</td>\n",
              "    </tr>\n",
              "    <tr>\n",
              "      <th>3</th>\n",
              "      <td>1252</td>\n",
              "      <td>1709</td>\n",
              "    </tr>\n",
              "    <tr>\n",
              "      <th>4</th>\n",
              "      <td>508</td>\n",
              "      <td>698</td>\n",
              "    </tr>\n",
              "    <tr>\n",
              "      <th>...</th>\n",
              "      <td>...</td>\n",
              "      <td>...</td>\n",
              "    </tr>\n",
              "    <tr>\n",
              "      <th>228</th>\n",
              "      <td>5809</td>\n",
              "      <td>6133</td>\n",
              "    </tr>\n",
              "    <tr>\n",
              "      <th>229</th>\n",
              "      <td>12255</td>\n",
              "      <td>9699</td>\n",
              "    </tr>\n",
              "    <tr>\n",
              "      <th>230</th>\n",
              "      <td>7863</td>\n",
              "      <td>6725</td>\n",
              "    </tr>\n",
              "    <tr>\n",
              "      <th>231</th>\n",
              "      <td>2509</td>\n",
              "      <td>3655</td>\n",
              "    </tr>\n",
              "    <tr>\n",
              "      <th>232</th>\n",
              "      <td>5141</td>\n",
              "      <td>4738</td>\n",
              "    </tr>\n",
              "  </tbody>\n",
              "</table>\n",
              "<p>233 rows × 2 columns</p>\n",
              "</div>"
            ],
            "text/plain": [
              "     gagu_1  gagu_2\n",
              "0      1125    1006\n",
              "1       363     296\n",
              "2       995    1082\n",
              "3      1252    1709\n",
              "4       508     698\n",
              "..      ...     ...\n",
              "228    5809    6133\n",
              "229   12255    9699\n",
              "230    7863    6725\n",
              "231    2509    3655\n",
              "232    5141    4738\n",
              "\n",
              "[233 rows x 2 columns]"
            ]
          },
          "metadata": {
            "tags": []
          },
          "execution_count": 13
        }
      ]
    },
    {
      "cell_type": "code",
      "metadata": {
        "id": "jGND6ADUUiQW",
        "colab_type": "code",
        "colab": {}
      },
      "source": [
        "x_train,x_test,y_train,y_test =train_test_split(dfx,dfy,test_size=0.3)                                                                                                                                                                                                                                                                                                                                                                                                                                                                                                                                                                                                                                                                                                                                                                                       "
      ],
      "execution_count": null,
      "outputs": []
    },
    {
      "cell_type": "code",
      "metadata": {
        "id": "3ZZD9HyKVKDf",
        "colab_type": "code",
        "colab": {}
      },
      "source": [
        "lr = LogisticRegression()\n",
        "grid_values = {'C': [0.001,0.01,0.1,1,10,100,1000], 'max_iter':[500, 5000]}  #찾고자 하는 파라미터 형식\n",
        "gscv = GridSearchCV(lr, param_grid=grid_values, return_train_score=True)\n",
        "gscv.fit(x_train, y_train)\n",
        "gscv.best_params_, gscv.best_index_, gscv.best_score_, gscv.best_estimator_"
      ],
      "execution_count": null,
      "outputs": []
    },
    {
      "cell_type": "code",
      "metadata": {
        "id": "hhWhkpIjWHce",
        "colab_type": "code",
        "colab": {
          "base_uri": "https://localhost:8080/",
          "height": 35
        },
        "outputId": "da857537-e0c5-48f2-cf26-897dcd54fb9c"
      },
      "source": [
        "lr = LinearRegression()\n",
        "lr.fit(x_train, y_train)"
      ],
      "execution_count": null,
      "outputs": [
        {
          "output_type": "execute_result",
          "data": {
            "text/plain": [
              "LinearRegression(copy_X=True, fit_intercept=True, n_jobs=None, normalize=False)"
            ]
          },
          "metadata": {
            "tags": []
          },
          "execution_count": 16
        }
      ]
    },
    {
      "cell_type": "code",
      "metadata": {
        "id": "b7Dwcsd6coPo",
        "colab_type": "code",
        "colab": {
          "base_uri": "https://localhost:8080/",
          "height": 35
        },
        "outputId": "47ffc2a4-b992-4731-af79-2d2281bf29bd"
      },
      "source": [
        "predictions = lr.predict(x_test)\n",
        "lr.score(x_test, y_test)\n",
        "from sklearn import metrics\n",
        "metrics.r2_score(y_test, predictions)"
      ],
      "execution_count": null,
      "outputs": [
        {
          "output_type": "execute_result",
          "data": {
            "text/plain": [
              "0.5217369833060694"
            ]
          },
          "metadata": {
            "tags": []
          },
          "execution_count": 34
        }
      ]
    },
    {
      "cell_type": "code",
      "metadata": {
        "id": "E4Pyd-ky0iw3",
        "colab_type": "code",
        "colab": {
          "base_uri": "https://localhost:8080/",
          "height": 487
        },
        "outputId": "02aa6395-8bb3-4145-f6df-53c7702018d7"
      },
      "source": [
        " model = sm.OLS(dfy,dfx)\n",
        " result = model.fit()\n",
        " print(result.summary())"
      ],
      "execution_count": null,
      "outputs": [
        {
          "output_type": "stream",
          "text": [
            "                                 OLS Regression Results                                \n",
            "=======================================================================================\n",
            "Dep. Variable:          other_address   R-squared (uncentered):                   0.590\n",
            "Model:                            OLS   Adj. R-squared (uncentered):              0.587\n",
            "Method:                 Least Squares   F-statistic:                              166.2\n",
            "Date:                Fri, 14 Aug 2020   Prob (F-statistic):                    1.86e-45\n",
            "Time:                        02:42:24   Log-Likelihood:                         -614.77\n",
            "No. Observations:                 233   AIC:                                      1234.\n",
            "Df Residuals:                     231   BIC:                                      1240.\n",
            "Df Model:                           2                                                  \n",
            "Covariance Type:            nonrobust                                                  \n",
            "==============================================================================\n",
            "                 coef    std err          t      P>|t|      [0.025      0.975]\n",
            "------------------------------------------------------------------------------\n",
            "gagu_1         0.0005      0.000      4.212      0.000       0.000       0.001\n",
            "gagu_2         0.0002      0.000      1.720      0.087   -3.36e-05       0.000\n",
            "==============================================================================\n",
            "Omnibus:                      267.474   Durbin-Watson:                   1.924\n",
            "Prob(Omnibus):                  0.000   Jarque-Bera (JB):            17715.972\n",
            "Skew:                           4.569   Prob(JB):                         0.00\n",
            "Kurtosis:                      44.729   Cond. No.                         6.13\n",
            "==============================================================================\n",
            "\n",
            "Warnings:\n",
            "[1] Standard Errors assume that the covariance matrix of the errors is correctly specified.\n"
          ],
          "name": "stdout"
        }
      ]
    },
    {
      "cell_type": "code",
      "metadata": {
        "id": "LnvZ_faq25qH",
        "colab_type": "code",
        "colab": {
          "base_uri": "https://localhost:8080/",
          "height": 233
        },
        "outputId": "8b0399bc-156b-43b0-d885-af60161f7769"
      },
      "source": [
        "result.predict(x_test) "
      ],
      "execution_count": null,
      "outputs": [
        {
          "output_type": "execute_result",
          "data": {
            "text/plain": [
              "173     4.357420\n",
              "23      1.356184\n",
              "67      3.604107\n",
              "148    12.424863\n",
              "155     9.143838\n",
              "         ...    \n",
              "6       0.402639\n",
              "164     1.647054\n",
              "69      3.540927\n",
              "141    15.697774\n",
              "35      0.768598\n",
              "Length: 70, dtype: float64"
            ]
          },
          "metadata": {
            "tags": []
          },
          "execution_count": 28
        }
      ]
    },
    {
      "cell_type": "code",
      "metadata": {
        "id": "RX_qxoZdgIp4",
        "colab_type": "code",
        "colab": {
          "base_uri": "https://localhost:8080/",
          "height": 145
        },
        "outputId": "0678a676-4c69-4b9e-d951-a6c7468ad15f"
      },
      "source": [
        "from sklearn.svm import SVC\n",
        "classifier = SVC(kernel = 'linear')\n",
        "classifier.fit(dfx, dfy)"
      ],
      "execution_count": null,
      "outputs": [
        {
          "output_type": "stream",
          "text": [
            "/usr/local/lib/python3.6/dist-packages/sklearn/utils/validation.py:760: DataConversionWarning: A column-vector y was passed when a 1d array was expected. Please change the shape of y to (n_samples, ), for example using ravel().\n",
            "  y = column_or_1d(y, warn=True)\n"
          ],
          "name": "stderr"
        },
        {
          "output_type": "execute_result",
          "data": {
            "text/plain": [
              "SVC(C=1.0, break_ties=False, cache_size=200, class_weight=None, coef0=0.0,\n",
              "    decision_function_shape='ovr', degree=3, gamma='scale', kernel='linear',\n",
              "    max_iter=-1, probability=False, random_state=None, shrinking=True,\n",
              "    tol=0.001, verbose=False)"
            ]
          },
          "metadata": {
            "tags": []
          },
          "execution_count": 40
        }
      ]
    },
    {
      "cell_type": "code",
      "metadata": {
        "id": "sNzIfmts4AzZ",
        "colab_type": "code",
        "colab": {}
      },
      "source": [
        ""
      ],
      "execution_count": null,
      "outputs": []
    }
  ]
}